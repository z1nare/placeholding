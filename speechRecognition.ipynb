{
 "cells": [
  {
   "cell_type": "markdown",
   "id": "5f54f655",
   "metadata": {},
   "source": [
    "# Speech Recognition placeholder"
   ]
  },
  {
   "cell_type": "markdown",
   "id": "d79d6082",
   "metadata": {},
   "source": []
  }
 ],
 "metadata": {
  "language_info": {
   "name": "python"
  }
 },
 "nbformat": 4,
 "nbformat_minor": 5
}
